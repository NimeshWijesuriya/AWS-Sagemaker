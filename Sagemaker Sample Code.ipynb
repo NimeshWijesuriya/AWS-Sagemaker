{
 "cells": [
  {
   "cell_type": "markdown",
   "id": "27c37cd0",
   "metadata": {},
   "source": [
    "# Importing Libraries"
   ]
  },
  {
   "cell_type": "code",
   "execution_count": 2,
   "id": "c4dcf7f1",
   "metadata": {},
   "outputs": [],
   "source": [
    "import sagemaker\n",
    "import boto3\n",
    "from sagemaker.amazon.amazon_estimator import get_image_uri\n",
    "from sagemaker import Session\n",
    "from sagemaker.inputs import TrainingInput"
   ]
  },
  {
   "cell_type": "markdown",
   "id": "59b1429e",
   "metadata": {},
   "source": [
    "# Creating S3 bucket"
   ]
  },
  {
   "cell_type": "code",
   "execution_count": 9,
   "id": "567286d7",
   "metadata": {},
   "outputs": [
    {
     "name": "stdout",
     "output_type": "stream",
     "text": [
      "us-east-1\n"
     ]
    }
   ],
   "source": [
    "bucket_name='bankappnew'\n",
    "my_region=boto3.session.Session().region_name\n",
    "print(my_region)"
   ]
  },
  {
   "cell_type": "code",
   "execution_count": 10,
   "id": "810ed0a3",
   "metadata": {},
   "outputs": [
    {
     "name": "stdout",
     "output_type": "stream",
     "text": [
      "s3 bucket created\n"
     ]
    }
   ],
   "source": [
    "s3=boto3.resource('s3')\n",
    "try:\n",
    "    if my_region == 'us-east-1':\n",
    "        s3.create_bucket(Bucket=bucket_name)\n",
    "    print('s3 bucket created')\n",
    "except Exception as e:\n",
    "    print('s3 error: ',e)"
   ]
  },
  {
   "cell_type": "markdown",
   "id": "86095731",
   "metadata": {},
   "source": [
    "## set an output path where the trained model will be saved"
   ]
  },
  {
   "cell_type": "code",
   "execution_count": 11,
   "id": "c063eddc",
   "metadata": {},
   "outputs": [
    {
     "name": "stdout",
     "output_type": "stream",
     "text": [
      "s3://bankappnew/xgboost-as-a-built-in-algo/output\n"
     ]
    }
   ],
   "source": [
    "prefix= 'xgboost-as-a-built-in-algo'\n",
    "output_path='s3://{}/{}/output'.format(bucket_name,prefix)\n",
    "print(output_path)"
   ]
  },
  {
   "cell_type": "markdown",
   "id": "b301c666",
   "metadata": {},
   "source": [
    "# Downloading The Dataset And Storing in S3"
   ]
  },
  {
   "cell_type": "code",
   "execution_count": 12,
   "id": "dda071f5",
   "metadata": {},
   "outputs": [
    {
     "name": "stdout",
     "output_type": "stream",
     "text": [
      "Success: downloaded bank_clean.csv.\n",
      "Success: Data loaded into dataframe.\n"
     ]
    }
   ],
   "source": [
    "import pandas as pd\n",
    "import urllib\n",
    "try:\n",
    "    urllib.request.urlretrieve (\"https://d1.awsstatic.com/tmt/build-train-deploy-machine-learning-model-sagemaker/bank_clean.27f01fbbdf43271788427f3682996ae29ceca05d.csv\", \"bank_clean.csv\")\n",
    "    print('Success: downloaded bank_clean.csv.')\n",
    "except Exception as e:\n",
    "    print('Data load error: ',e)\n",
    "\n",
    "try:\n",
    "    model_data = pd.read_csv('./bank_clean.csv',index_col=0)\n",
    "    print('Success: Data loaded into dataframe.')\n",
    "except Exception as e:\n",
    "    print('Data load error: ',e)"
   ]
  },
  {
   "cell_type": "markdown",
   "id": "ff8eb335",
   "metadata": {},
   "source": [
    "## Train Test split"
   ]
  },
  {
   "cell_type": "code",
   "execution_count": 13,
   "id": "f007dc1a",
   "metadata": {},
   "outputs": [
    {
     "name": "stdout",
     "output_type": "stream",
     "text": [
      "(28831, 61) (12357, 61)\n"
     ]
    },
    {
     "name": "stderr",
     "output_type": "stream",
     "text": [
      "/home/ec2-user/anaconda3/envs/python3/lib/python3.10/site-packages/numpy/core/fromnumeric.py:57: FutureWarning: 'DataFrame.swapaxes' is deprecated and will be removed in a future version. Please use 'DataFrame.transpose' instead.\n",
      "  return bound(*args, **kwds)\n"
     ]
    }
   ],
   "source": [
    "import numpy as np\n",
    "train_data, test_data = np.split(model_data.sample(frac=1, random_state=1729), [int(0.7 * len(model_data))])\n",
    "print(train_data.shape, test_data.shape)"
   ]
  },
  {
   "cell_type": "markdown",
   "id": "f10bcc20",
   "metadata": {},
   "source": [
    "# Saving Train And Test Into Buckets"
   ]
  },
  {
   "cell_type": "code",
   "execution_count": 18,
   "id": "3b25ec50",
   "metadata": {},
   "outputs": [],
   "source": [
    "import os\n",
    "import boto3\n",
    "import pandas as pd\n",
    "from sagemaker.inputs import TrainingInput\n",
    "\n",
    "pd.concat([train_data['y_yes'], train_data.drop(['y_no', 'y_yes'], axis=1)], axis=1).to_csv('train.csv', index=False, header=False)\n",
    "\n",
    "# Upload the file to S3\n",
    "boto3.Session().resource('s3').Bucket(bucket_name).Object(os.path.join(prefix, 'train/train.csv')).upload_file('train.csv')\n",
    "\n",
    "# Define the S3 input for training\n",
    "s3_input_train = TrainingInput(s3_data='s3://{}/{}/train/train.csv'.format(bucket_name, prefix), content_type='text/csv')\n"
   ]
  },
  {
   "cell_type": "code",
   "execution_count": 20,
   "id": "e96bb930",
   "metadata": {},
   "outputs": [],
   "source": [
    "pd.concat([test_data['y_yes'], test_data.drop(['y_no', 'y_yes'], axis=1)], axis=1).to_csv('test.csv', index=False, header=False)\n",
    "\n",
    "# Upload the file to S3\n",
    "boto3.Session().resource('s3').Bucket(bucket_name).Object(os.path.join(prefix, 'test/test.csv')).upload_file('test.csv')\n",
    "\n",
    "# Define the S3 input for testing\n",
    "s3_input_test = TrainingInput(s3_data='s3://{}/{}/test/test.csv'.format(bucket_name, prefix), content_type='text/csv')"
   ]
  },
  {
   "cell_type": "markdown",
   "id": "f34ef462",
   "metadata": {},
   "source": [
    "# Building Models Xgboot- Inbuilt Algorithm"
   ]
  },
  {
   "cell_type": "code",
   "execution_count": 22,
   "id": "46c8eed2",
   "metadata": {},
   "outputs": [],
   "source": [
    "import boto3\n",
    "from sagemaker import image_uris\n",
    "\n",
    "repo_version = '1.0-1'\n",
    "\n",
    "# Automatically look for the XGBoost image URI and build an XGBoost container\n",
    "container = image_uris.retrieve('xgboost', \n",
    "                                boto3.Session().region_name, \n",
    "                                version=repo_version)\n"
   ]
  },
  {
   "cell_type": "code",
   "execution_count": 23,
   "id": "ffc8c28d",
   "metadata": {},
   "outputs": [],
   "source": [
    "hyperparameters = {\n",
    "        \"max_depth\":\"5\",\n",
    "        \"eta\":\"0.2\",\n",
    "        \"gamma\":\"4\",\n",
    "        \"min_child_weight\":\"6\",\n",
    "        \"subsample\":\"0.7\",\n",
    "        \"objective\":\"binary:logistic\",\n",
    "        \"num_round\":50\n",
    "        }"
   ]
  },
  {
   "cell_type": "code",
   "execution_count": 25,
   "id": "22adc92f",
   "metadata": {},
   "outputs": [],
   "source": [
    "estimator = sagemaker.estimator.Estimator(\n",
    "    image_uri=container,\n",
    "    hyperparameters=hyperparameters,\n",
    "    role=sagemaker.get_execution_role(),\n",
    "    instance_count=1,\n",
    "    instance_type='ml.m5.2xlarge',\n",
    "    volume_size=5,  # 5 GB\n",
    "    output_path=output_path,\n",
    "    use_spot_instances=True,\n",
    "    max_run=300,\n",
    "    max_wait=600\n",
    ")"
   ]
  },
  {
   "cell_type": "code",
   "execution_count": 26,
   "id": "5721f2b6",
   "metadata": {},
   "outputs": [
    {
     "name": "stderr",
     "output_type": "stream",
     "text": [
      "INFO:sagemaker:Creating training-job with name: sagemaker-xgboost-2024-08-04-05-40-50-654\n"
     ]
    },
    {
     "name": "stdout",
     "output_type": "stream",
     "text": [
      "2024-08-04 05:40:50 Starting - Starting the training job...\n",
      "2024-08-04 05:41:06 Starting - Preparing the instances for training...\n",
      "2024-08-04 05:41:49 Downloading - Downloading the training image......\n",
      "2024-08-04 05:42:50 Training - Training image download completed. Training in progress.\n",
      "2024-08-04 05:42:50 Uploading - Uploading generated training model\u001b[34m[2024-08-04 05:42:42.202 ip-10-2-200-11.ec2.internal:7 INFO utils.py:27] RULE_JOB_STOP_SIGNAL_FILENAME: None\u001b[0m\n",
      "\u001b[34mINFO:sagemaker-containers:Imported framework sagemaker_xgboost_container.training\u001b[0m\n",
      "\u001b[34mINFO:sagemaker-containers:Failed to parse hyperparameter objective value binary:logistic to Json.\u001b[0m\n",
      "\u001b[34mReturning the value itself\u001b[0m\n",
      "\u001b[34mINFO:sagemaker-containers:No GPUs detected (normal if no gpus installed)\u001b[0m\n",
      "\u001b[34mINFO:sagemaker_xgboost_container.training:Running XGBoost Sagemaker in algorithm mode\u001b[0m\n",
      "\u001b[34mINFO:root:Determined delimiter of CSV input is ','\u001b[0m\n",
      "\u001b[34mINFO:root:Determined delimiter of CSV input is ','\u001b[0m\n",
      "\u001b[34mINFO:root:Determined delimiter of CSV input is ','\u001b[0m\n",
      "\u001b[34mINFO:root:Determined delimiter of CSV input is ','\u001b[0m\n",
      "\u001b[34mINFO:root:Single node training.\u001b[0m\n",
      "\u001b[34m[05:42:42] 28831x59 matrix with 1701029 entries loaded from /opt/ml/input/data/train?format=csv&label_column=0&delimiter=,\u001b[0m\n",
      "\u001b[34m[05:42:42] 12357x59 matrix with 729063 entries loaded from /opt/ml/input/data/validation?format=csv&label_column=0&delimiter=,\u001b[0m\n",
      "\u001b[34m[2024-08-04 05:42:42.364 ip-10-2-200-11.ec2.internal:7 INFO json_config.py:91] Creating hook from json_config at /opt/ml/input/config/debughookconfig.json.\u001b[0m\n",
      "\u001b[34m[2024-08-04 05:42:42.364 ip-10-2-200-11.ec2.internal:7 INFO hook.py:201] tensorboard_dir has not been set for the hook. SMDebug will not be exporting tensorboard summaries.\u001b[0m\n",
      "\u001b[34m[2024-08-04 05:42:42.364 ip-10-2-200-11.ec2.internal:7 INFO profiler_config_parser.py:102] User has disabled profiler.\u001b[0m\n",
      "\u001b[34m[2024-08-04 05:42:42.365 ip-10-2-200-11.ec2.internal:7 INFO hook.py:255] Saving to /opt/ml/output/tensors\u001b[0m\n",
      "\u001b[34m[2024-08-04 05:42:42.365 ip-10-2-200-11.ec2.internal:7 INFO state_store.py:77] The checkpoint config file /opt/ml/input/config/checkpointconfig.json does not exist.\u001b[0m\n",
      "\u001b[34mINFO:root:Debug hook created from config\u001b[0m\n",
      "\u001b[34mINFO:root:Train matrix has 28831 rows\u001b[0m\n",
      "\u001b[34mINFO:root:Validation matrix has 12357 rows\u001b[0m\n",
      "\u001b[34m[05:42:42] WARNING: /workspace/src/learner.cc:328: \u001b[0m\n",
      "\u001b[34mParameters: { num_round } might not be used.\n",
      "  This may not be accurate due to some parameters are only used in language bindings but\n",
      "  passed down to XGBoost core.  Or some parameters are not used but slip through this\n",
      "  verification. Please open an issue if you find above cases.\u001b[0m\n",
      "\u001b[34m[0]#011train-error:0.10079#011validation-error:0.10528\u001b[0m\n",
      "\u001b[34m[2024-08-04 05:42:42.415 ip-10-2-200-11.ec2.internal:7 INFO hook.py:423] Monitoring the collections: metrics\u001b[0m\n",
      "\u001b[34m[2024-08-04 05:42:42.417 ip-10-2-200-11.ec2.internal:7 INFO hook.py:486] Hook is writing from the hook with pid: 7\u001b[0m\n",
      "\u001b[34m[1]#011train-error:0.09968#011validation-error:0.10456\u001b[0m\n",
      "\u001b[34m[2]#011train-error:0.10017#011validation-error:0.10375\u001b[0m\n",
      "\u001b[34m[3]#011train-error:0.09989#011validation-error:0.10310\u001b[0m\n",
      "\u001b[34m[4]#011train-error:0.09996#011validation-error:0.10286\u001b[0m\n",
      "\u001b[34m[5]#011train-error:0.09906#011validation-error:0.10261\u001b[0m\n",
      "\u001b[34m[6]#011train-error:0.09930#011validation-error:0.10286\u001b[0m\n",
      "\u001b[34m[7]#011train-error:0.09951#011validation-error:0.10261\u001b[0m\n",
      "\u001b[34m[8]#011train-error:0.09920#011validation-error:0.10286\u001b[0m\n",
      "\u001b[34m[9]#011train-error:0.09871#011validation-error:0.10294\u001b[0m\n",
      "\u001b[34m[10]#011train-error:0.09868#011validation-error:0.10294\u001b[0m\n",
      "\u001b[34m[11]#011train-error:0.09868#011validation-error:0.10326\u001b[0m\n",
      "\u001b[34m[12]#011train-error:0.09854#011validation-error:0.10358\u001b[0m\n",
      "\u001b[34m[13]#011train-error:0.09892#011validation-error:0.10342\u001b[0m\n",
      "\u001b[34m[14]#011train-error:0.09850#011validation-error:0.10342\u001b[0m\n",
      "\u001b[34m[15]#011train-error:0.09844#011validation-error:0.10326\u001b[0m\n",
      "\u001b[34m[16]#011train-error:0.09857#011validation-error:0.10318\u001b[0m\n",
      "\u001b[34m[17]#011train-error:0.09799#011validation-error:0.10318\u001b[0m\n",
      "\u001b[34m[18]#011train-error:0.09816#011validation-error:0.10383\u001b[0m\n",
      "\u001b[34m[19]#011train-error:0.09857#011validation-error:0.10383\u001b[0m\n",
      "\u001b[34m[20]#011train-error:0.09830#011validation-error:0.10350\u001b[0m\n",
      "\u001b[34m[21]#011train-error:0.09826#011validation-error:0.10318\u001b[0m\n",
      "\u001b[34m[22]#011train-error:0.09847#011validation-error:0.10399\u001b[0m\n",
      "\u001b[34m[23]#011train-error:0.09833#011validation-error:0.10407\u001b[0m\n",
      "\u001b[34m[24]#011train-error:0.09812#011validation-error:0.10415\u001b[0m\n",
      "\u001b[34m[25]#011train-error:0.09812#011validation-error:0.10399\u001b[0m\n",
      "\u001b[34m[26]#011train-error:0.09774#011validation-error:0.10375\u001b[0m\n",
      "\u001b[34m[27]#011train-error:0.09781#011validation-error:0.10375\u001b[0m\n",
      "\u001b[34m[28]#011train-error:0.09781#011validation-error:0.10391\u001b[0m\n",
      "\u001b[34m[29]#011train-error:0.09778#011validation-error:0.10367\u001b[0m\n",
      "\u001b[34m[30]#011train-error:0.09781#011validation-error:0.10383\u001b[0m\n",
      "\u001b[34m[31]#011train-error:0.09771#011validation-error:0.10358\u001b[0m\n",
      "\u001b[34m[32]#011train-error:0.09743#011validation-error:0.10391\u001b[0m\n",
      "\u001b[34m[33]#011train-error:0.09753#011validation-error:0.10342\u001b[0m\n",
      "\u001b[34m[34]#011train-error:0.09767#011validation-error:0.10342\u001b[0m\n",
      "\u001b[34m[35]#011train-error:0.09757#011validation-error:0.10350\u001b[0m\n",
      "\u001b[34m[36]#011train-error:0.09757#011validation-error:0.10342\u001b[0m\n",
      "\u001b[34m[37]#011train-error:0.09736#011validation-error:0.10342\u001b[0m\n",
      "\u001b[34m[38]#011train-error:0.09750#011validation-error:0.10342\u001b[0m\n",
      "\u001b[34m[39]#011train-error:0.09733#011validation-error:0.10350\u001b[0m\n",
      "\u001b[34m[40]#011train-error:0.09705#011validation-error:0.10358\u001b[0m\n",
      "\u001b[34m[41]#011train-error:0.09701#011validation-error:0.10383\u001b[0m\n",
      "\u001b[34m[42]#011train-error:0.09712#011validation-error:0.10407\u001b[0m\n",
      "\u001b[34m[43]#011train-error:0.09698#011validation-error:0.10375\u001b[0m\n",
      "\u001b[34m[44]#011train-error:0.09733#011validation-error:0.10342\u001b[0m\n",
      "\u001b[34m[45]#011train-error:0.09736#011validation-error:0.10367\u001b[0m\n",
      "\u001b[34m[46]#011train-error:0.09746#011validation-error:0.10350\u001b[0m\n",
      "\u001b[34m[47]#011train-error:0.09736#011validation-error:0.10358\u001b[0m\n",
      "\u001b[34m[48]#011train-error:0.09712#011validation-error:0.10334\u001b[0m\n",
      "\u001b[34m[49]#011train-error:0.09712#011validation-error:0.10318\u001b[0m\n",
      "\n",
      "2024-08-04 05:42:58 Completed - Training job completed\n",
      "Training seconds: 84\n",
      "Billable seconds: 34\n",
      "Managed Spot Training savings: 59.5%\n"
     ]
    }
   ],
   "source": [
    "estimator.fit({'train': s3_input_train,'validation': s3_input_test})"
   ]
  },
  {
   "cell_type": "markdown",
   "id": "f0283036",
   "metadata": {},
   "source": [
    "# Deploy Machine Learning Model As Endpoints"
   ]
  },
  {
   "cell_type": "code",
   "execution_count": 27,
   "id": "0ac4d93e",
   "metadata": {},
   "outputs": [
    {
     "name": "stderr",
     "output_type": "stream",
     "text": [
      "INFO:sagemaker:Creating model with name: sagemaker-xgboost-2024-08-04-05-49-57-434\n",
      "INFO:sagemaker:Creating endpoint-config with name sagemaker-xgboost-2024-08-04-05-49-57-434\n",
      "INFO:sagemaker:Creating endpoint with name sagemaker-xgboost-2024-08-04-05-49-57-434\n"
     ]
    },
    {
     "name": "stdout",
     "output_type": "stream",
     "text": [
      "------!"
     ]
    }
   ],
   "source": [
    "xgb_predictor = estimator.deploy(initial_instance_count=1,instance_type='ml.m4.xlarge')"
   ]
  },
  {
   "cell_type": "markdown",
   "id": "702c650f",
   "metadata": {},
   "source": [
    "## Prediction of the Test Data"
   ]
  },
  {
   "cell_type": "code",
   "execution_count": 29,
   "id": "6967fb2e",
   "metadata": {},
   "outputs": [
    {
     "name": "stdout",
     "output_type": "stream",
     "text": [
      "(12357,)\n"
     ]
    }
   ],
   "source": [
    "import numpy as np\n",
    "from sagemaker.serializers import CSVSerializer\n",
    "\n",
    "# Prepare test data as a numpy array\n",
    "test_data_array = test_data.drop(['y_no', 'y_yes'], axis=1).values\n",
    "\n",
    "# Set the content type and serializer for the predictor\n",
    "xgb_predictor.content_type = 'text/csv'\n",
    "xgb_predictor.serializer = CSVSerializer()\n",
    "\n",
    "# Predict and process the results\n",
    "predictions = xgb_predictor.predict(test_data_array).decode('utf-8')\n",
    "predictions_array = np.fromstring(predictions, sep=',')\n",
    "print(predictions_array.shape)\n"
   ]
  },
  {
   "cell_type": "code",
   "execution_count": 31,
   "id": "2973b515",
   "metadata": {},
   "outputs": [
    {
     "data": {
      "text/plain": [
       "array([0.05214286, 0.05660191, 0.05096195, ..., 0.03436061, 0.02942475,\n",
       "       0.03715819])"
      ]
     },
     "execution_count": 31,
     "metadata": {},
     "output_type": "execute_result"
    }
   ],
   "source": [
    "predictions_array"
   ]
  },
  {
   "cell_type": "markdown",
   "id": "600d2a6f",
   "metadata": {},
   "source": [
    "## confusion matrix"
   ]
  },
  {
   "cell_type": "code",
   "execution_count": 32,
   "id": "c9892549",
   "metadata": {},
   "outputs": [
    {
     "name": "stdout",
     "output_type": "stream",
     "text": [
      "\n",
      "Overall Classification Rate: 89.7%\n",
      "\n",
      "Predicted      No Purchase    Purchase\n",
      "Observed\n",
      "No Purchase    91% (10785)    34% (151)\n",
      "Purchase        9% (1124)     66% (297) \n",
      "\n"
     ]
    }
   ],
   "source": [
    "cm = pd.crosstab(index=test_data['y_yes'], columns=np.round(predictions_array), rownames=['Observed'], colnames=['Predicted'])\n",
    "tn = cm.iloc[0,0]; fn = cm.iloc[1,0]; tp = cm.iloc[1,1]; fp = cm.iloc[0,1]; p = (tp+tn)/(tp+tn+fp+fn)*100\n",
    "print(\"\\n{0:<20}{1:<4.1f}%\\n\".format(\"Overall Classification Rate: \", p))\n",
    "print(\"{0:<15}{1:<15}{2:>8}\".format(\"Predicted\", \"No Purchase\", \"Purchase\"))\n",
    "print(\"Observed\")\n",
    "print(\"{0:<15}{1:<2.0f}% ({2:<}){3:>6.0f}% ({4:<})\".format(\"No Purchase\", tn/(tn+fn)*100,tn, fp/(tp+fp)*100, fp))\n",
    "print(\"{0:<16}{1:<1.0f}% ({2:<}){3:>7.0f}% ({4:<}) \\n\".format(\"Purchase\", fn/(tn+fn)*100,fn, tp/(tp+fp)*100, tp))"
   ]
  },
  {
   "cell_type": "code",
   "execution_count": null,
   "id": "e0745534",
   "metadata": {},
   "outputs": [],
   "source": []
  }
 ],
 "metadata": {
  "kernelspec": {
   "display_name": "conda_python3",
   "language": "python",
   "name": "conda_python3"
  },
  "language_info": {
   "codemirror_mode": {
    "name": "ipython",
    "version": 3
   },
   "file_extension": ".py",
   "mimetype": "text/x-python",
   "name": "python",
   "nbconvert_exporter": "python",
   "pygments_lexer": "ipython3",
   "version": "3.10.14"
  }
 },
 "nbformat": 4,
 "nbformat_minor": 5
}
